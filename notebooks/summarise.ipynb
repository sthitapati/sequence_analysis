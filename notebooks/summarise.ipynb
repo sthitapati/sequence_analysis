{
 "cells": [
  {
   "cell_type": "markdown",
   "metadata": {},
   "source": [
    "## Import libraries"
   ]
  },
  {
   "cell_type": "code",
   "execution_count": 2,
   "metadata": {},
   "outputs": [],
   "source": [
    "import os\n",
    "import pandas as pd\n",
    "import numpy as np\n",
    "import matplotlib.pyplot as plt\n",
    "import seaborn as sns"
   ]
  },
  {
   "cell_type": "markdown",
   "metadata": {},
   "source": [
    "## Load the data"
   ]
  },
  {
   "cell_type": "code",
   "execution_count": 19,
   "metadata": {},
   "outputs": [
    {
     "name": "stdout",
     "output_type": "stream",
     "text": [
      "/mnt/ceph/projects/sequences/analysed_data/behaviour_output/GRM2_GtACR_optoinhibition/SP160\n"
     ]
    }
   ],
   "source": [
    "Experiment = 'GRM2_GtACR_optoinhibition'\n",
    "animal = 'SP160'\n",
    "# output_folder =  '/home/sthitapati/Documents/sequence_data/seq_optoinhibition/output'\n",
    "output_folder =  '/mnt/ceph/projects/sequences/analysed_data/behaviour_output'\n",
    "\n",
    "# file name\n",
    "\n",
    "folder = os.path.join(output_folder, Experiment, animal)\n",
    "print(folder) \n"
   ]
  },
  {
   "cell_type": "code",
   "execution_count": 20,
   "metadata": {},
   "outputs": [
    {
     "name": "stdout",
     "output_type": "stream",
     "text": [
      "contents of the folder:\n",
      "Preprocessed\n",
      "SP160_session_info.csv\n",
      "plots\n",
      "SP160_transition_data_all_sessions.csv\n",
      "loading file ... SP160_transition_data_all_sessions.csv\n"
     ]
    }
   ],
   "source": [
    "# print contents of the folder\n",
    "print('contents of the folder:')\n",
    "for file in os.listdir(folder):\n",
    "    print(file)\n",
    "\n",
    "# load file with the name animal + _transition_data_all_sessions.csv\n",
    "\n",
    "file_name = os.path.join(animal + '_transition_data_all_sessions.csv')\n",
    "print(f'loading file ... {file_name}')"
   ]
  },
  {
   "cell_type": "code",
   "execution_count": 21,
   "metadata": {},
   "outputs": [
    {
     "name": "stdout",
     "output_type": "stream",
     "text": [
      "column names:\n",
      "Unnamed: 0\n",
      "trial_id\n",
      "transition_type\n",
      "start_poke_port\n",
      "end_poke_port\n",
      "start_poke_in_timestamp\n",
      "start_poke_out_timestamp\n",
      "end_poke_in_timestamp\n",
      "end_poke_out_timestamp\n",
      "out_in_latency\n",
      "in_in_latency\n",
      "repeat_filter\n",
      "2s_time_filter_out_in\n",
      "2s_time_filter_in_in\n",
      "opto_condition\n",
      "opto_stimulated_port\n",
      "training_level\n",
      "led_intensities_ports_2_3_4_5\n",
      "reward_amounts_ports_1_2_3_4\n",
      "camera_port_in_times\n",
      "camera_port_out_times\n",
      "camera_trial_start_times\n",
      "camera_trial_end_times\n",
      "cumulative_trial_id\n",
      "session_id\n",
      "date\n",
      "day\n",
      "animal_id\n",
      "group\n"
     ]
    }
   ],
   "source": [
    "# load file_name as pandas dataframe\n",
    "df = pd.read_csv(os.path.join(folder, file_name))\n",
    "# df.head()\n",
    "\n",
    "# print column names\n",
    "print('column names:')\n",
    "for col in df.columns:\n",
    "    print(col)\n"
   ]
  },
  {
   "cell_type": "code",
   "execution_count": 22,
   "metadata": {},
   "outputs": [
    {
     "name": "stdout",
     "output_type": "stream",
     "text": [
      "unique values in the column session_id:\n",
      "[ 0  1  2  3  4  5  6  7  8  9 10 11 12 13 14 15 16 17 18 19]\n"
     ]
    }
   ],
   "source": [
    "# print all unique values in the column 'session_id'\n",
    "\n",
    "print('unique values in the column session_id:')\n",
    "print(df['session_id'].unique())"
   ]
  },
  {
   "cell_type": "code",
   "execution_count": 23,
   "metadata": {},
   "outputs": [
    {
     "name": "stdout",
     "output_type": "stream",
     "text": [
      "<class 'pandas.core.frame.DataFrame'>\n",
      "Index: 25630 entries, 27116 to 52745\n",
      "Data columns (total 29 columns):\n",
      " #   Column                         Non-Null Count  Dtype  \n",
      "---  ------                         --------------  -----  \n",
      " 0   Unnamed: 0                     25630 non-null  int64  \n",
      " 1   trial_id                       25630 non-null  int64  \n",
      " 2   transition_type                25630 non-null  int64  \n",
      " 3   start_poke_port                25630 non-null  int64  \n",
      " 4   end_poke_port                  25630 non-null  int64  \n",
      " 5   start_poke_in_timestamp        25630 non-null  float64\n",
      " 6   start_poke_out_timestamp       25630 non-null  float64\n",
      " 7   end_poke_in_timestamp          25630 non-null  float64\n",
      " 8   end_poke_out_timestamp         25628 non-null  float64\n",
      " 9   out_in_latency                 25630 non-null  float64\n",
      " 10  in_in_latency                  25630 non-null  float64\n",
      " 11  repeat_filter                  25630 non-null  int64  \n",
      " 12  2s_time_filter_out_in          25630 non-null  int64  \n",
      " 13  2s_time_filter_in_in           25630 non-null  int64  \n",
      " 14  opto_condition                 730 non-null    float64\n",
      " 15  opto_stimulated_port           730 non-null    float64\n",
      " 16  training_level                 25630 non-null  int64  \n",
      " 17  led_intensities_ports_2_3_4_5  25630 non-null  object \n",
      " 18  reward_amounts_ports_1_2_3_4   25630 non-null  object \n",
      " 19  camera_port_in_times           0 non-null      float64\n",
      " 20  camera_port_out_times          0 non-null      float64\n",
      " 21  camera_trial_start_times       0 non-null      float64\n",
      " 22  camera_trial_end_times         0 non-null      float64\n",
      " 23  cumulative_trial_id            25630 non-null  int64  \n",
      " 24  session_id                     25630 non-null  int64  \n",
      " 25  date                           25630 non-null  object \n",
      " 26  day                            25630 non-null  object \n",
      " 27  animal_id                      25630 non-null  object \n",
      " 28  group                          25630 non-null  object \n",
      "dtypes: float64(12), int64(11), object(6)\n",
      "memory usage: 5.9+ MB\n"
     ]
    }
   ],
   "source": [
    "# state which sessions would you like to summarise\n",
    "sessions_to_summarise = [13, 14, 15, 16, 17, 18, 19]\n",
    "\n",
    "# create a new dataframe with only the sessions you want to summarise\n",
    "\n",
    "df_s = df[df['session_id'].isin(sessions_to_summarise)]\n",
    "# df_s.head()\n",
    "# df_s['session_id'].unique()\n",
    "\n",
    "df_s.info()"
   ]
  },
  {
   "cell_type": "markdown",
   "metadata": {},
   "source": [
    "## Accumulate the data into a single dataframe"
   ]
  },
  {
   "cell_type": "code",
   "execution_count": 24,
   "metadata": {},
   "outputs": [],
   "source": [
    "\n",
    "def filter_dataframe(df, start_port=2, filter_sequence_from_start_port=True):\n",
    "    \"\"\"\n",
    "    Filters a DataFrame based on the occurrence of a specified starting port and optionally\n",
    "    sequences that begin from this port. The function adjusts timestamps to reference from the\n",
    "    first occurrence of the starting port and condenses subsequent data to array structures for each trial.\n",
    "\n",
    "    Parameters:\n",
    "    - df (pd.DataFrame): The input DataFrame containing behavioral experiment data.\n",
    "    - start_port (int): The start port number specifyuing the starting point of the sequence.\n",
    "    - filter_sequence_from_start_port (bool): If True, sequences will be filtered to start from the first occurrence\n",
    "      of the specified start_port. If False, the original starting point of the trial is used.\n",
    "\n",
    "    Returns:\n",
    "    - pd.DataFrame: A new DataFrame with trials filtered based on the start_port, and timestamps\n",
    "      adjusted to start from the first occurrence of start_port.\n",
    "    \"\"\"\n",
    "    # List to store the updated rows\n",
    "    filtered_rows = []\n",
    "\n",
    "    # Loop through each unique animal_id\n",
    "    for animal in df['animal_id'].unique():\n",
    "        animal_df = df[df['animal_id'] == animal]\n",
    "\n",
    "        # Loop through each unique cumulative_trial_id\n",
    "        for trial_id in sorted(animal_df['cumulative_trial_id'].unique()):\n",
    "            trial_df = animal_df[animal_df['cumulative_trial_id'] == trial_id]\n",
    "\n",
    "            # Skip trials without the specified start_port\n",
    "\n",
    "            if not (trial_df['start_poke_port'] == start_port).any():\n",
    "                continue  # Skip trials without the specified start_port\n",
    "\n",
    "            # Find the index of the first occurrence of start_port\n",
    "\n",
    "            if filter_sequence_from_start_port:\n",
    "                trial_start_index = trial_df[trial_df['start_poke_port'] == start_port].index.min()\n",
    "            else:\n",
    "                trial_start_index = trial_df.index.min() # Set trial_start_index to the first start_poke_port\n",
    "\n",
    "            # Filter rows that occur at or after the trial_start_index\n",
    "\n",
    "            updated_trial_df = trial_df.loc[trial_start_index:]\n",
    "\n",
    "            # Set reference timestamp\n",
    "            reference_timestamp = updated_trial_df.loc[trial_start_index, 'start_poke_in_timestamp']\n",
    "\n",
    "            # Update timestamp columns and create lists\n",
    "\n",
    "            updated_trial_df['start_poke_in_timestamp'] -= reference_timestamp\n",
    "            updated_trial_df['start_poke_out_timestamp'] -= reference_timestamp\n",
    "            updated_trial_df['end_poke_in_timestamp'] -= reference_timestamp\n",
    "            updated_trial_df['end_poke_out_timestamp'] -= reference_timestamp\n",
    "\n",
    "            updated_trial_df['in_in_latency'] = updated_trial_df['end_poke_in_timestamp'] - updated_trial_df['start_poke_in_timestamp']\n",
    "            updated_trial_df['out_in_latency'] = updated_trial_df['end_poke_in_timestamp'] - updated_trial_df['start_poke_out_timestamp']\n",
    "\n",
    "            # Condense the updated trial DataFrame to one row\n",
    "            condensed_row = updated_trial_df.iloc[0].to_dict()\n",
    "\n",
    "            # Convert specified columns to lists for consistent data structure\n",
    "            array_columns = [\n",
    "                'transition_type', 'start_poke_port', 'end_poke_port',\n",
    "                'start_poke_in_timestamp', 'start_poke_out_timestamp',\n",
    "                'end_poke_in_timestamp', 'end_poke_out_timestamp',\n",
    "                'out_in_latency', 'in_in_latency', 'camera_port_in_times',\n",
    "                'camera_port_out_times'\n",
    "            ]\n",
    "\n",
    "            # Ensure all specified columns are converted to lists for consistent data structure\n",
    "            for column in array_columns:\n",
    "                condensed_row[column] = updated_trial_df[column].tolist()\n",
    "\n",
    "            # Calculate latency to start trial as a new column\n",
    "            latency_to_start_trial = reference_timestamp - trial_df['start_poke_in_timestamp'].iloc[0]\n",
    "            condensed_row['latency_to_start_trial'] = latency_to_start_trial\n",
    "\n",
    "            filtered_rows.append(condensed_row)\n",
    "\n",
    "    filtered_df = pd.DataFrame(filtered_rows)\n",
    "    filtered_df.reset_index(drop=True, inplace=True)\n",
    "\n",
    "    # Optionally, drop columns that are no longer necessary or relevant for further analysis\n",
    "    unnecessary_columns = ['led_intensities_ports_2_3_4_5', 'reward_amounts_ports_1_2_3_4']\n",
    "    filtered_df.drop(columns=unnecessary_columns, inplace=True, errors='ignore')\n",
    "\n",
    "    return filtered_df\n",
    "# # # Usage:\n",
    "# filtered_control_df = filter_dataframe(control_df, filter_sequence_from_start_port=True)"
   ]
  },
  {
   "cell_type": "code",
   "execution_count": 25,
   "metadata": {},
   "outputs": [],
   "source": [
    "\n",
    "filtered_df_s = filter_dataframe(df_s, filter_sequence_from_start_port=False)"
   ]
  },
  {
   "cell_type": "markdown",
   "metadata": {},
   "source": [
    "## Summarise the number of non-stimulated and stimulated trials"
   ]
  },
  {
   "cell_type": "code",
   "execution_count": 26,
   "metadata": {},
   "outputs": [
    {
     "name": "stdout",
     "output_type": "stream",
     "text": [
      "summarizing opto-stimulation of 7 sessions: [13, 14, 15, 16, 17, 18, 19]\n",
      "\n",
      "number of non-stimulated trials: 2872\n",
      "number of trials with opto_stimulated_port = 1: 27\n",
      "number of trials with opto_stimulated_port = 2: 17\n",
      "number of trials with opto_stimulated_port = 3: 20\n",
      "number of trials with opto_stimulated_port = 4: 17\n"
     ]
    }
   ],
   "source": [
    "# print in a nice format the counts of trials for each unique value in the column 'opto_stimulated_port'\n",
    "# e.g. number of trials with opto_stimulated_port = 1: 10\n",
    "#      number of trials with opto_stimulated_port = 2: 20\n",
    "#      number of trials with opto_stimulated_port = nan: 30\n",
    "# Assuming filtered_df_s is your DataFrame and 'opto_stimulated_port' is the column of interest.\n",
    "\n",
    "print(f'summarizing opto-stimulation of {len(sessions_to_summarise)} sessions: {sessions_to_summarise}', end='\\n\\n')\n",
    "\n",
    "# Count of non-stimulated (NaN) trials\n",
    "non_stimulated_count = filtered_df_s['opto_stimulated_port'].isna().sum()\n",
    "print('number of non-stimulated trials:', non_stimulated_count)\n",
    "\n",
    "# Count of trials for each unique value in 'opto_stimulated_port'\n",
    "value_counts = filtered_df_s['opto_stimulated_port'].value_counts(dropna=False)\n",
    "for port in range(1, 5):\n",
    "    print(f'number of trials with opto_stimulated_port = {port}:', value_counts.get(port, 0))"
   ]
  },
  {
   "cell_type": "markdown",
   "metadata": {},
   "source": [
    "## Prepare the dataframe for plotting and summarising out_in_latency and port_in_times\n",
    "the data is to be segragate into 5 groups: non-stimulated, port_1, port_2, port_3, port_4"
   ]
  },
  {
   "cell_type": "code",
   "execution_count": 27,
   "metadata": {},
   "outputs": [],
   "source": [
    "\n",
    "# get out_in_latency and in_in_latency from df_s \n",
    "\n",
    "df_latency = df_s[['out_in_latency', 'in_in_latency', 'opto_stimulated_port', 'repeat_filter']].copy()\n",
    "\n",
    "# add a column port_time = in_in_latency - out_in_latency\n",
    "df_latency['port_time'] = df_latency['in_in_latency'] - df_latency['out_in_latency']\n",
    "\n",
    "# reset index\n",
    "df_latency.reset_index(drop=True, inplace=True)\n",
    "\n",
    "df_latency.head()\n",
    "\n",
    "# to simplify calculation of variable delay, we will only consider trials with port_time < 1 second\n",
    "df_latency = df_latency[df_latency['port_time'] < 1]\n",
    "\n",
    "# and remove trials with out_in_latency > 5 seconds to account for very long wait time before the next poke when the animal just decides to go have a mid-strength beer\n",
    "df_latency = df_latency[df_latency['out_in_latency'] < 5]\n",
    "\n",
    "# remove rows when there is repat of poke in the same port (repeat_filter = 0)\n",
    "\n",
    "df_latency = df_latency[df_latency['repeat_filter'] == 1]\n"
   ]
  },
  {
   "cell_type": "code",
   "execution_count": 28,
   "metadata": {},
   "outputs": [
    {
     "name": "stderr",
     "output_type": "stream",
     "text": [
      "/home/sthitapati/anaconda3/envs/seq/lib/python3.12/site-packages/seaborn/_oldcore.py:1119: FutureWarning: use_inf_as_na option is deprecated and will be removed in a future version. Convert inf values to NaN before operating instead.\n",
      "  with pd.option_context('mode.use_inf_as_na', True):\n"
     ]
    },
    {
     "data": {
      "image/png": "[encoded data removed]",
      "text/plain": [
       "<Figure size 500x500 with 1 Axes>"
      ]
     },
     "metadata": {},
     "output_type": "display_data"
    },
    {
     "name": "stdout",
     "output_type": "stream",
     "text": [
      "Vertical cyan line, 95th percentile of port_time: 0.23269000000002524\n",
      "Vertical red line, median of port_time: 0.0880500000000097\n"
     ]
    }
   ],
   "source": [
    "# plot the distribution of df_latency['port_time'] \n",
    "\n",
    "sns.displot(df_latency['port_time'], bins=100, kde=True)\n",
    "\n",
    "# draw a vertical line at the 75th percentile in the same plot\n",
    "\n",
    "plt.axvline(x=np.percentile(df_latency['port_time'],85), color='cyan')\n",
    "plt.axvline(x=np.median(df_latency['port_time']), color='red', linestyle='--', linewidth=1)\n",
    "plt.show()\n",
    "\n",
    "print('Vertical cyan line, 95th percentile of port_time:', np.percentile(df_latency['port_time'],95))\n",
    "print('Vertical red line, median of port_time:', np.median(df_latency['port_time']))"
   ]
  },
  {
   "cell_type": "code",
   "execution_count": 29,
   "metadata": {},
   "outputs": [
    {
     "name": "stderr",
     "output_type": "stream",
     "text": [
      "/home/sthitapati/anaconda3/envs/seq/lib/python3.12/site-packages/seaborn/_oldcore.py:1119: FutureWarning: use_inf_as_na option is deprecated and will be removed in a future version. Convert inf values to NaN before operating instead.\n",
      "  with pd.option_context('mode.use_inf_as_na', True):\n"
     ]
    },
    {
     "data": {
      "image/png": "[encoded data removed]",
      "text/plain": [
       "<Figure size 500x500 with 1 Axes>"
      ]
     },
     "metadata": {},
     "output_type": "display_data"
    },
    {
     "name": "stdout",
     "output_type": "stream",
     "text": [
      "Vertical magenta line, 85th percentile of out_in_latency: 0.4220850000000041\n",
      "Vertical red line, median of out_in_latency: 0.23254999999994647\n",
      "Vertical cyan line, 85th percentile of port_time: 0.23269000000002524\n"
     ]
    }
   ],
   "source": [
    "# plot a histogram of df_latency['out_in_latency'] \n",
    "\n",
    "sns.displot(df_latency['out_in_latency'], bins=100, kde=True)\n",
    "\n",
    "# draw a vertical line at the 75th percentile in the same plot\n",
    "\n",
    "plt.axvline(x=np.percentile(df_latency['out_in_latency'],85), color='magenta', linewidth=1)\n",
    "plt.axvline(x=np.median(df_latency['out_in_latency']), color='red', linestyle='--', linewidth=1)\n",
    "# draw a cyan line at the 85th percentile of df_latency['port_time'] in the same plot\n",
    "plt.axvline(x=np.percentile(df_latency['port_time'],85), color='cyan', linewidth=1)\n",
    "plt.show()\n",
    "\n",
    "print('Vertical magenta line, 85th percentile of out_in_latency:', np.percentile(df_latency['out_in_latency'],85))\n",
    "print('Vertical red line, median of out_in_latency:', np.median(df_latency['out_in_latency']))\n",
    "print('Vertical cyan line, 85th percentile of port_time:', np.percentile(df_latency['port_time'],95))\n",
    "\n",
    "# plot"
   ]
  },
  {
   "cell_type": "code",
   "execution_count": 30,
   "metadata": {},
   "outputs": [
    {
     "name": "stdout",
     "output_type": "stream",
     "text": [
      "mean of out_in_latency: 0.32\n",
      "standard deviation of out_in_latency: 0.37\n",
      "lower bound of port_time: 0.23\n",
      "upper bound of out_in_latency: 0.42\n"
     ]
    }
   ],
   "source": [
    "# lowerBound = np.percentile(df_latency['port_time'],95\n",
    "# upperBound = np.percentile(df_latency['out_in_latency'],85\n",
    "# mean_ = np.mean(df_latency['out_in_latency'])\n",
    "# sd_ = np.std(df_latency['out_in_latency'])\n",
    "\n",
    "print('mean of out_in_latency:', round(np.mean(df_latency['out_in_latency']), 2))\n",
    "print('standard deviation of out_in_latency:', round(np.std(df_latency['out_in_latency']), 2))\n",
    "print('lower bound of port_time:', round(np.percentile(df_latency['port_time'], 95), 2))\n",
    "print('upper bound of out_in_latency:', round(np.percentile(df_latency['out_in_latency'], 85), 2))\n"
   ]
  },
  {
   "cell_type": "markdown",
   "metadata": {},
   "source": [
    "## Summarise variable delay trials"
   ]
  },
  {
   "cell_type": "code",
   "execution_count": null,
   "metadata": {},
   "outputs": [],
   "source": []
  }
 ],
 "metadata": {
  "kernelspec": {
   "display_name": "py10",
   "language": "python",
   "name": "python3"
  },
  "language_info": {
   "codemirror_mode": {
    "name": "ipython",
    "version": 3
   },
   "file_extension": ".py",
   "mimetype": "text/x-python",
   "name": "python",
   "nbconvert_exporter": "python",
   "pygments_lexer": "ipython3",
   "version": "3.12.2"
  }
 },
 "nbformat": 4,
 "nbformat_minor": 2
}
