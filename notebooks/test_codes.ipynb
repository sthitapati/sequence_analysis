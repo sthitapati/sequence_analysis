{
 "cells": [
  {
   "cell_type": "code",
   "execution_count": 1,
   "metadata": {},
   "outputs": [],
   "source": [
    "filename = '/home/sthitapati/Documents/sequence_data/bpod_raw_data/SP111/Sequence_Automated/Session Data/SP111_Sequence_Automated_20230421_115225.mat'"
   ]
  },
  {
   "cell_type": "code",
   "execution_count": 2,
   "metadata": {},
   "outputs": [],
   "source": [
    "import scipy.io as sio\n",
    "import numpy as np\n",
    "mat_file = sio.loadmat(filename)"
   ]
  },
  {
   "cell_type": "code",
   "execution_count": 3,
   "metadata": {},
   "outputs": [
    {
     "name": "stdout",
     "output_type": "stream",
     "text": [
      "Variables in the mat file: \n"
     ]
    },
    {
     "data": {
      "text/plain": [
       "(None, ['__header__', '__version__', '__globals__', 'SessionData'])"
      ]
     },
     "execution_count": 3,
     "metadata": {},
     "output_type": "execute_result"
    }
   ],
   "source": [
    "print('Variables in the mat file: '), list(mat_file.keys())"
   ]
  },
  {
   "cell_type": "code",
   "execution_count": 4,
   "metadata": {},
   "outputs": [
    {
     "name": "stdout",
     "output_type": "stream",
     "text": [
      "b'MATLAB 5.0 MAT-file, Platform: PCWIN64, Created on: Fri Apr 21 12:46:31 2023'\n",
      "1.0\n",
      "[]\n"
     ]
    }
   ],
   "source": [
    "print(mat_file['__header__'])\n",
    "print(mat_file['__version__'])\n",
    "print(mat_file['__globals__'])"
   ]
  },
  {
   "cell_type": "code",
   "execution_count": 5,
   "metadata": {},
   "outputs": [
    {
     "name": "stdout",
     "output_type": "stream",
     "text": [
      "[('MaxTrials', 'O'), ('TrialTypes', 'O'), ('TrialSequence', 'O'), ('SessionVariables', 'O'), ('FirstTLevel', 'O'), ('TLevel', 'O'), ('ExperimentType', 'O'), ('sma_vars', 'O'), ('Info', 'O'), ('nTrials', 'O'), ('RawEvents', 'O'), ('RawData', 'O'), ('TrialStartTimestamp', 'O'), ('TrialEndTimestamp', 'O'), ('SettingsFile', 'O'), ('TrialSettings', 'O'), ('Notes', 'O'), ('MarkerCodes', 'O'), ('OnlinePlotParams', 'O')]\n"
     ]
    }
   ],
   "source": [
    "print(mat_file['SessionData'].dtype)"
   ]
  },
  {
   "cell_type": "code",
   "execution_count": 6,
   "metadata": {},
   "outputs": [
    {
     "data": {
      "text/plain": [
       "('MaxTrials',\n",
       " 'TrialTypes',\n",
       " 'TrialSequence',\n",
       " 'SessionVariables',\n",
       " 'FirstTLevel',\n",
       " 'TLevel',\n",
       " 'ExperimentType',\n",
       " 'sma_vars',\n",
       " 'Info',\n",
       " 'nTrials',\n",
       " 'RawEvents',\n",
       " 'RawData',\n",
       " 'TrialStartTimestamp',\n",
       " 'TrialEndTimestamp',\n",
       " 'SettingsFile',\n",
       " 'TrialSettings',\n",
       " 'Notes',\n",
       " 'MarkerCodes',\n",
       " 'OnlinePlotParams')"
      ]
     },
     "execution_count": 6,
     "metadata": {},
     "output_type": "execute_result"
    }
   ],
   "source": [
    "mat_file['SessionData'].dtype.names"
   ]
  },
  {
   "cell_type": "code",
   "execution_count": 7,
   "metadata": {},
   "outputs": [
    {
     "name": "stdout",
     "output_type": "stream",
     "text": [
      "Maximum number of trials:  2000\n"
     ]
    }
   ],
   "source": [
    "# maximum number of trials\n",
    "max_trials = mat_file['SessionData']['MaxTrials'][0][0][0][0]\n",
    "print('Maximum number of trials: ', max_trials)"
   ]
  },
  {
   "cell_type": "code",
   "execution_count": 8,
   "metadata": {},
   "outputs": [
    {
     "name": "stdout",
     "output_type": "stream",
     "text": [
      "Number of trials:  50\n"
     ]
    }
   ],
   "source": [
    "# number of trials\n",
    "n_trials = mat_file['SessionData']['nTrials'][0][0][0][0]\n",
    "print('Number of trials: ', n_trials)"
   ]
  },
  {
   "cell_type": "code",
   "execution_count": 9,
   "metadata": {},
   "outputs": [
    {
     "data": {
      "text/html": [
       "<div>\n",
       "<style scoped>\n",
       "    .dataframe tbody tr th:only-of-type {\n",
       "        vertical-align: middle;\n",
       "    }\n",
       "\n",
       "    .dataframe tbody tr th {\n",
       "        vertical-align: top;\n",
       "    }\n",
       "\n",
       "    .dataframe thead th {\n",
       "        text-align: right;\n",
       "    }\n",
       "</style>\n",
       "<table border=\"1\" class=\"dataframe\">\n",
       "  <thead>\n",
       "    <tr style=\"text-align: right;\">\n",
       "      <th></th>\n",
       "      <th>TrialNumber</th>\n",
       "    </tr>\n",
       "  </thead>\n",
       "  <tbody>\n",
       "    <tr>\n",
       "      <th>0</th>\n",
       "      <td>1</td>\n",
       "    </tr>\n",
       "    <tr>\n",
       "      <th>1</th>\n",
       "      <td>2</td>\n",
       "    </tr>\n",
       "    <tr>\n",
       "      <th>2</th>\n",
       "      <td>3</td>\n",
       "    </tr>\n",
       "    <tr>\n",
       "      <th>3</th>\n",
       "      <td>4</td>\n",
       "    </tr>\n",
       "    <tr>\n",
       "      <th>4</th>\n",
       "      <td>5</td>\n",
       "    </tr>\n",
       "  </tbody>\n",
       "</table>\n",
       "</div>"
      ],
      "text/plain": [
       "   TrialNumber\n",
       "0            1\n",
       "1            2\n",
       "2            3\n",
       "3            4\n",
       "4            5"
      ]
     },
     "execution_count": 9,
     "metadata": {},
     "output_type": "execute_result"
    }
   ],
   "source": [
    "# create a pandas dataframe of n_trial rows and 1 column \n",
    "import pandas as pd\n",
    "df = pd.DataFrame(index=range(n_trials))\n",
    "df['TrialNumber'] = range(1, n_trials+1)\n",
    "df.head()\n"
   ]
  },
  {
   "cell_type": "code",
   "execution_count": 10,
   "metadata": {},
   "outputs": [
    {
     "name": "stdout",
     "output_type": "stream",
     "text": [
      "Trial types:  [1 1 1 1 1 1 1 1 1 1 1 1 1 1 1 1 1 1 1 1 1 1 1 1 1 1 1 1 1 1 1 1 1 1 1 1 1\n",
      " 1 1 1 1 1 1 1 1 1 1 1 1 1]\n"
     ]
    }
   ],
   "source": [
    "# trial types\n",
    "trial_types = mat_file['SessionData']['TrialTypes'][0][0][0]\n",
    "print('Trial types: ', trial_types)"
   ]
  },
  {
   "cell_type": "code",
   "execution_count": 11,
   "metadata": {},
   "outputs": [
    {
     "name": "stdout",
     "output_type": "stream",
     "text": [
      "Trial sequence:  [2 1 6 3 7]\n"
     ]
    }
   ],
   "source": [
    "# Trial sequence\n",
    "trial_sequence = mat_file['SessionData']['TrialSequence'][0][0][0]\n",
    "print('Trial sequence: ', trial_sequence)"
   ]
  },
  {
   "cell_type": "code",
   "execution_count": 12,
   "metadata": {},
   "outputs": [
    {
     "data": {
      "text/plain": [
       "('Punish_condition',\n",
       " 'TrainingLevels',\n",
       " 'counter',\n",
       " 'Perfect_Seqs',\n",
       " 'current_performance',\n",
       " 'OptoStim',\n",
       " 'SpecialEvents',\n",
       " 'PortStimulated',\n",
       " 'ResponseWindow',\n",
       " 'TLevel',\n",
       " 'LEDIntensitys',\n",
       " 'RewardAmount')"
      ]
     },
     "execution_count": 12,
     "metadata": {},
     "output_type": "execute_result"
    }
   ],
   "source": [
    "# Session variables\n",
    "session_variables = mat_file['SessionData']['SessionVariables'][0][0][0]\n",
    "# print('Session variables: ', session_variables)\n",
    "session_variables.dtype.names\n",
    "# TODO: find out what are the session variables"
   ]
  },
  {
   "cell_type": "code",
   "execution_count": 13,
   "metadata": {},
   "outputs": [
    {
     "name": "stdout",
     "output_type": "stream",
     "text": [
      "First Tlevel:  1\n"
     ]
    }
   ],
   "source": [
    "# First Tlevel\n",
    "first_tlevel = mat_file['SessionData']['FirstTLevel'][0][0][0][0]\n",
    "print('First Tlevel: ', first_tlevel)"
   ]
  },
  {
   "cell_type": "code",
   "execution_count": 14,
   "metadata": {},
   "outputs": [
    {
     "name": "stdout",
     "output_type": "stream",
     "text": [
      "Experiment type:  [1]\n"
     ]
    }
   ],
   "source": [
    "# Experiment type\n",
    "experiment_type = mat_file['SessionData']['ExperimentType'][0][0][0]\n",
    "print('Experiment type: ', experiment_type)\n",
    "# TODO: what is this"
   ]
  },
  {
   "cell_type": "code",
   "execution_count": 15,
   "metadata": {},
   "outputs": [
    {
     "name": "stdout",
     "output_type": "stream",
     "text": [
      "SMA vars:  [(array([[5]], dtype=uint8), array([[5]], dtype=uint8), array([[5]], dtype=uint8), array([[5]], dtype=uint8), array([[5]], dtype=uint8), array([[90]], dtype=uint8), array([[90]], dtype=uint8), array([[90]], dtype=uint8), array([[90]], dtype=uint8), array([[90]], dtype=uint8))]\n"
     ]
    }
   ],
   "source": [
    "# sma_vars\n",
    "sma_vars = mat_file['SessionData']['sma_vars'][0][0][0]\n",
    "print('SMA vars: ', sma_vars)\n",
    "# TODO: what is this"
   ]
  },
  {
   "cell_type": "code",
   "execution_count": 16,
   "metadata": {},
   "outputs": [
    {
     "name": "stdout",
     "output_type": "stream",
     "text": [
      "Info:  [(array(['Bpod 0.7-0.9'], dtype='<U12'), array(['21-Apr-2023'], dtype='<U11'), array(['12:04:45'], dtype='<U8'), array([[738997.50330778]]))]\n"
     ]
    }
   ],
   "source": [
    "# Info\n",
    "info = mat_file['SessionData']['Info'][0][0][0]\n",
    "print('Info: ', info)"
   ]
  },
  {
   "cell_type": "code",
   "execution_count": 17,
   "metadata": {},
   "outputs": [
    {
     "name": "stdout",
     "output_type": "stream",
     "text": [
      "('Port7Out', 'Port7In', 'Port8In', 'Port3In', 'Port3Out', 'Port8Out', 'Port5In', 'Port5Out', 'Port1In', 'Port1Out', 'Port2In', 'Port2Out', 'Tup', 'Port6In', 'Port6Out', 'Port4In', 'Port4Out')\n"
     ]
    },
    {
     "data": {
      "text/plain": [
       "array([  1.4945,   2.0681,   2.4651,   2.9916,  13.    ,  13.0166,\n",
       "        13.6523,  13.8408,  14.1227,  14.1415,  41.4921,  95.5091,\n",
       "       119.3446])"
      ]
     },
     "execution_count": 17,
     "metadata": {},
     "output_type": "execute_result"
    }
   ],
   "source": [
    "# RawEvents\n",
    "raw_events = mat_file['SessionData']['RawEvents'][0][0][0]\n",
    "# print('Raw events: ', raw_events)\n",
    "current_data = raw_events[0][0][0][4]\n",
    "print(current_data['Events'][0][0].dtype.names)\n",
    "current_data['Events'][0][0]['Port7Out'][0][0][0]"
   ]
  },
  {
   "cell_type": "code",
   "execution_count": 18,
   "metadata": {},
   "outputs": [],
   "source": [
    "# Rawdata\n",
    "raw_data = mat_file['SessionData']['RawData'][0][0][0]\n",
    "# print('Raw data: ', raw_data)"
   ]
  },
  {
   "cell_type": "code",
   "execution_count": 19,
   "metadata": {},
   "outputs": [],
   "source": [
    "# TrialStartTimestamp\n",
    "trial_start_timestamp = mat_file['SessionData']['TrialStartTimestamp'][0][0][0]\n",
    "# print('Trial start timestamp: ', trial_start_timestamp)"
   ]
  },
  {
   "cell_type": "code",
   "execution_count": 20,
   "metadata": {},
   "outputs": [],
   "source": [
    "# TrialEndTimestamp\n",
    "trial_end_timestamp = mat_file['SessionData']['TrialEndTimestamp'][0][0][0]\n",
    "# print('Trial end timestamp: ', trial_end_timestamp)"
   ]
  },
  {
   "cell_type": "code",
   "execution_count": 21,
   "metadata": {},
   "outputs": [
    {
     "name": "stdout",
     "output_type": "stream",
     "text": [
      "Settings file:  [None]\n"
     ]
    }
   ],
   "source": [
    "# settingsfile\n",
    "settings_file = mat_file['SessionData']['SettingsFile'][0][0][0]\n",
    "print('Settings file: ', settings_file) "
   ]
  },
  {
   "cell_type": "code",
   "execution_count": 22,
   "metadata": {},
   "outputs": [
    {
     "data": {
      "text/plain": [
       "('GUI', 'GUIMeta', 'GUIPanels', 'GUITabs')"
      ]
     },
     "execution_count": 22,
     "metadata": {},
     "output_type": "execute_result"
    }
   ],
   "source": [
    "[22,11,66,33,77]\n",
    "    Missequence= [26,23,12,13,62,61,32,31,36,71,76,73,27,17,67] \n",
    "    Other_Error = [24,25,28,14,15,18,64,65,68,34,35,38,74,75,78] \n",
    "important to finally parse the data"
   ]
  },
  {
   "cell_type": "code",
   "execution_count": 23,
   "metadata": {},
   "outputs": [
    {
     "data": {
      "text/plain": [
       "('WrongTrials',\n",
       " 'CorrectTrials',\n",
       " 'WrongCount',\n",
       " 'CorrectCount',\n",
       " 'RewardEventTimes',\n",
       " 'WrongEventTimes',\n",
       " 'PrcntCorrect',\n",
       " 'drink_time_mins',\n",
       " 'wrong_time_mins',\n",
       " 'cumtrialcount',\n",
       " 'missedtrials',\n",
       " 'WithinTrialEventTime',\n",
       " 'Initialstatetime',\n",
       " 'Secondstatetime',\n",
       " 'Thirdstatetime',\n",
       " 'Fourthstatetime',\n",
       " 'Fifthstatetime',\n",
       " 'PlotColour',\n",
       " 'Level',\n",
       " 'PerformanceMetric')"
      ]
     },
     "execution_count": 23,
     "metadata": {},
     "output_type": "execute_result"
    }
   ],
   "source": [
    "# OnlinePlotParams\n",
    "online_plot_parameters = mat_file['SessionData']['OnlinePlotParams'][0][0][0]\n",
    "# print('Online plot parameters: ', online_plot_parameters)\n",
    "online_plot_parameters.dtype.names\n",
    "# TODO: find out if emmett saves these parameters"
   ]
  },
  {
   "cell_type": "code",
   "execution_count": 24,
   "metadata": {},
   "outputs": [],
   "source": [
    "# save variables to a hdf5 file\n"
   ]
  },
  {
   "cell_type": "code",
   "execution_count": null,
   "metadata": {},
   "outputs": [],
   "source": []
  }
 ],
 "metadata": {
  "kernelspec": {
   "display_name": "py10",
   "language": "python",
   "name": "python3"
  },
  "language_info": {
   "codemirror_mode": {
    "name": "ipython",
    "version": 3
   },
   "file_extension": ".py",
   "mimetype": "text/x-python",
   "name": "python",
   "nbconvert_exporter": "python",
   "pygments_lexer": "ipython3",
   "version": "3.11.3"
  },
  "orig_nbformat": 4
 },
 "nbformat": 4,
 "nbformat_minor": 2
}
